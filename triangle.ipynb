{
 "cells": [
  {
   "cell_type": "code",
   "execution_count": 1,
   "metadata": {},
   "outputs": [
    {
     "name": "stdout",
     "output_type": "stream",
     "text": [
      "Acute triangle.\n"
     ]
    }
   ],
   "source": [
    "x = int(input(\"Enter the first angle: \"))\n",
    "y = int(input(\"Enter the second angle: \"))\n",
    "z = int(input(\"Enter the third angle: \"))\n",
    "\n",
    "if x + y + z != 180:\n",
    "    print(\"Triangle is not valid.\")\n",
    "elif x == 90 or y == 90 or z == 90:\n",
    "    print(\"Right-angled triangle.\")\n",
    "elif x < 90 and y < 90 and z < 90:\n",
    "    print(\"Acute triangle.\")\n",
    "else:\n",
    "    print(\"None of the above, possibly an obtuse triangle.\")\n"
   ]
  },
  {
   "cell_type": "code",
   "execution_count": null,
   "metadata": {},
   "outputs": [],
   "source": []
  }
 ],
 "metadata": {
  "kernelspec": {
   "display_name": "base",
   "language": "python",
   "name": "python3"
  },
  "language_info": {
   "codemirror_mode": {
    "name": "ipython",
    "version": 3
   },
   "file_extension": ".py",
   "mimetype": "text/x-python",
   "name": "python",
   "nbconvert_exporter": "python",
   "pygments_lexer": "ipython3",
   "version": "3.11.5"
  }
 },
 "nbformat": 4,
 "nbformat_minor": 2
}
