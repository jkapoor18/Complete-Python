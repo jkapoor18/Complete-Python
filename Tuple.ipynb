{
 "cells": [
  {
   "cell_type": "markdown",
   "metadata": {},
   "source": [
    "## Tuples"
   ]
  },
  {
   "cell_type": "markdown",
   "metadata": {},
   "source": [
    "Tuples are similar to lists in Python but with a key difference: they are immutable. Once a tuple is created, its elements cannot be modified or changed. Tuples are defined using parentheses ().\n",
    "\n",
    "**Here are some key aspects of tuples, along with examples:**"
   ]
  },
  {
   "cell_type": "code",
   "execution_count": 3,
   "metadata": {},
   "outputs": [
    {
     "name": "stdout",
     "output_type": "stream",
     "text": [
      "<class 'tuple'>\n",
      "('python', 'Mathematics', 'classification', 'computer')\n",
      "(4, 6, 7, 3, 56, 92)\n",
      "('programming', 4.6, True, 4, 'command')\n"
     ]
    }
   ],
   "source": [
    "#here I assign only string values\n",
    "tuple1 = (\"python\",\"Mathematics\",\"classification\",\"computer\")   #you can give another name of variable in place of tuple1 \n",
    "\n",
    "#here I assign only integer values\n",
    "tuple2 = (4,6,7,3,56,92)\n",
    "\n",
    "#here I assign multiple different types of values\n",
    "tuple3 = (\"programming\",4.6,True,4,\"command\")\n",
    "\n",
    "print(type(tuple1))\n",
    "\n",
    "print(tuple1)\n",
    "print(tuple2)\n",
    "print(tuple3)"
   ]
  },
  {
   "cell_type": "code",
   "execution_count": null,
   "metadata": {},
   "outputs": [],
   "source": []
  }
 ],
 "metadata": {
  "kernelspec": {
   "display_name": "base",
   "language": "python",
   "name": "python3"
  },
  "language_info": {
   "codemirror_mode": {
    "name": "ipython",
    "version": 3
   },
   "file_extension": ".py",
   "mimetype": "text/x-python",
   "name": "python",
   "nbconvert_exporter": "python",
   "pygments_lexer": "ipython3",
   "version": "3.11.5"
  }
 },
 "nbformat": 4,
 "nbformat_minor": 2
}
