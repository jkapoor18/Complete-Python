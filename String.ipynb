{
 "cells": [
  {
   "cell_type": "markdown",
   "id": "d2393581",
   "metadata": {},
   "source": [
    "# String\n"
   ]
  },
  {
   "cell_type": "code",
   "execution_count": 3,
   "id": "58a490e7",
   "metadata": {},
   "outputs": [
    {
     "name": "stdout",
     "output_type": "stream",
     "text": [
      "Python is hgh level programming language\n",
      "PYTHON IS HGH LEVEL PROGRAMMING LANGUAGE\n"
     ]
    }
   ],
   "source": [
    "Name = \"Python is hgh level programming language\"\n",
    "result  = Name.upper()\n",
    "print(Name)\n",
    "print(result)          #you can see the diffrences here"
   ]
  },
  {
   "cell_type": "code",
   "execution_count": 4,
   "id": "900c0f43",
   "metadata": {},
   "outputs": [
    {
     "name": "stdout",
     "output_type": "stream",
     "text": [
      "Python is hgh level programming language\n",
      "python is hgh level programming language\n"
     ]
    }
   ],
   "source": [
    "Name = \"Python is hgh level programming language\"\n",
    "result  = Name.lower()\n",
    "print(Name)\n",
    "print(result) "
   ]
  },
  {
   "cell_type": "code",
   "execution_count": 5,
   "id": "4da3899b",
   "metadata": {},
   "outputs": [
    {
     "name": "stdout",
     "output_type": "stream",
     "text": [
      "          Python is hgh level programming language   \n",
      "Python is hgh level programming language\n"
     ]
    }
   ],
   "source": [
    "#for removing white spaces \n",
    "Name = \"          Python is hgh level programming language   \"\n",
    "result  = Name.strip()\n",
    "print(Name)\n",
    "print(result) "
   ]
  },
  {
   "cell_type": "code",
   "execution_count": 7,
   "id": "e68c5017",
   "metadata": {},
   "outputs": [
    {
     "name": "stdout",
     "output_type": "stream",
     "text": [
      "40\n"
     ]
    }
   ],
   "source": [
    "Name = \"Python is hgh level programming language\"\n",
    "#print(Name)\n",
    "print(len(result))"
   ]
  },
  {
   "cell_type": "code",
   "execution_count": 2,
   "id": "ad150943",
   "metadata": {},
   "outputs": [
    {
     "name": "stdout",
     "output_type": "stream",
     "text": [
      "Hello, my name is Neeta Rawat\n",
      "Length is : 29\n"
     ]
    }
   ],
   "source": [
    "x=\"Hello, my name is Neeta Rawat\"\n",
    "print(x)\n",
    "print(\"Length is :\",len(x))"
   ]
  },
  {
   "cell_type": "code",
   "execution_count": 3,
   "id": "2ebd8e3b",
   "metadata": {},
   "outputs": [
    {
     "name": "stdout",
     "output_type": "stream",
     "text": [
      "True\n"
     ]
    }
   ],
   "source": [
    "x=\"Helloo\"\n",
    "print(\"o\" in x)"
   ]
  },
  {
   "cell_type": "code",
   "execution_count": 5,
   "id": "2cf1a1de",
   "metadata": {},
   "outputs": [
    {
     "name": "stdout",
     "output_type": "stream",
     "text": [
      "False\n"
     ]
    }
   ],
   "source": [
    "print(\"p\" in x)"
   ]
  },
  {
   "cell_type": "code",
   "execution_count": 6,
   "id": "4a928d2b",
   "metadata": {},
   "outputs": [
    {
     "name": "stdout",
     "output_type": "stream",
     "text": [
      "yes, it is available\n"
     ]
    }
   ],
   "source": [
    "x=\"I am very intelligent\"\n",
    "if \"very\" in x:\n",
    "    print(\"yes, it is available\")"
   ]
  },
  {
   "cell_type": "code",
   "execution_count": 7,
   "id": "d0415c98",
   "metadata": {},
   "outputs": [
    {
     "name": "stdout",
     "output_type": "stream",
     "text": [
      "not present\n"
     ]
    }
   ],
   "source": [
    "if \"cool\" not in x:\n",
    "    print(\"not present\")"
   ]
  },
  {
   "cell_type": "code",
   "execution_count": 11,
   "id": "211992c6",
   "metadata": {},
   "outputs": [
    {
     "name": "stdout",
     "output_type": "stream",
     "text": [
      "no\n"
     ]
    }
   ],
   "source": [
    "x=\"python is a programming language\"\n",
    "if \"is\" and \"c++\" in x:\n",
    "    print(\"Yes\")\n",
    "else:\n",
    "    print(\"no\")\n",
    "    "
   ]
  },
  {
   "cell_type": "code",
   "execution_count": 12,
   "id": "6552de5e",
   "metadata": {},
   "outputs": [
    {
     "name": "stdout",
     "output_type": "stream",
     "text": [
      "Yes\n"
     ]
    }
   ],
   "source": [
    "x=\"python is a programming language\"\n",
    "if \"is\" or \"c++\" in x:\n",
    "    print(\"Yes\")\n",
    "else:\n",
    "    print(\"no\")"
   ]
  },
  {
   "cell_type": "code",
   "execution_count": 15,
   "id": "aa5c06f1",
   "metadata": {},
   "outputs": [
    {
     "name": "stdout",
     "output_type": "stream",
     "text": [
      "Yes\n"
     ]
    }
   ],
   "source": [
    "x=\"python is a programming language\"\n",
    "if \"java\" or \"c++\" in x:\n",
    "    print(\"Yes\")\n",
    "else:\n",
    "    print(\"no\")"
   ]
  },
  {
   "cell_type": "code",
   "execution_count": 18,
   "id": "892bf412",
   "metadata": {},
   "outputs": [
    {
     "name": "stdout",
     "output_type": "stream",
     "text": [
      "java is a programming language\n"
     ]
    }
   ],
   "source": [
    "x=\"python is a programming language\"\n",
    "result=x.replace(\"python\",\"java\")\n",
    "print(result)"
   ]
  },
  {
   "cell_type": "code",
   "execution_count": 19,
   "id": "1057cca5",
   "metadata": {},
   "outputs": [
    {
     "name": "stdout",
     "output_type": "stream",
     "text": [
      "['python', 'is', 'a', 'programming', 'language']\n"
     ]
    }
   ],
   "source": [
    "x=\"python is a programming language\"\n",
    "result=x.split()\n",
    "print(result)"
   ]
  },
  {
   "cell_type": "code",
   "execution_count": 21,
   "id": "c7161440",
   "metadata": {},
   "outputs": [
    {
     "name": "stdout",
     "output_type": "stream",
     "text": [
      "Eyes are brown\n",
      "Eyes are black\n"
     ]
    }
   ],
   "source": [
    "# Replace example\n",
    "x=\"Eyes are brown\"\n",
    "print(x)\n",
    "result=x.replace(\"brown\",\"black\")\n",
    "print(result)\n"
   ]
  },
  {
   "cell_type": "code",
   "execution_count": 22,
   "id": "74414f26",
   "metadata": {},
   "outputs": [
    {
     "name": "stdout",
     "output_type": "stream",
     "text": [
      "Earth is beautiful\n",
      "Earth is wonderful\n"
     ]
    }
   ],
   "source": [
    "x=\"Earth is beautiful\"\n",
    "print(x)\n",
    "result=x.replace(\"beautiful\",\"wonderful\")\n",
    "print(result)\n"
   ]
  },
  {
   "cell_type": "code",
   "execution_count": 23,
   "id": "6f5f1ffd",
   "metadata": {},
   "outputs": [
    {
     "name": "stdout",
     "output_type": "stream",
     "text": [
      "['Earth', 'is', 'beautiful']\n"
     ]
    }
   ],
   "source": [
    "x=\"Earth is beautiful\"\n",
    "result=x.split()\n",
    "print(result)"
   ]
  },
  {
   "cell_type": "code",
   "execution_count": 25,
   "id": "682dc3ff",
   "metadata": {},
   "outputs": [
    {
     "name": "stdout",
     "output_type": "stream",
     "text": [
      "NEETA\n"
     ]
    }
   ],
   "source": [
    "name=\"Neeta\"\n",
    "print(name.upper())"
   ]
  },
  {
   "cell_type": "code",
   "execution_count": 26,
   "id": "1a2191f0",
   "metadata": {},
   "outputs": [
    {
     "name": "stdout",
     "output_type": "stream",
     "text": [
      "neeta rawat\n"
     ]
    }
   ],
   "source": [
    "name=\"Neeta Rawat\"\n",
    "print(name.lower())"
   ]
  },
  {
   "cell_type": "code",
   "execution_count": 27,
   "id": "02ee6bbb",
   "metadata": {},
   "outputs": [
    {
     "name": "stdout",
     "output_type": "stream",
     "text": [
      "   Heelloo   \n",
      "Heelloo\n"
     ]
    }
   ],
   "source": [
    "x=\"   Heelloo   \"\n",
    "print(x)\n",
    "print(x.strip())"
   ]
  },
  {
   "cell_type": "code",
   "execution_count": 28,
   "id": "ca86a564",
   "metadata": {},
   "outputs": [
    {
     "name": "stdout",
     "output_type": "stream",
     "text": [
      "pythoncoding\n"
     ]
    }
   ],
   "source": [
    "x=\"python\"\n",
    "y=\"coding\"\n",
    "print(x+y)"
   ]
  },
  {
   "cell_type": "code",
   "execution_count": 29,
   "id": "ea0be9ec",
   "metadata": {},
   "outputs": [
    {
     "name": "stdout",
     "output_type": "stream",
     "text": [
      "python coding\n"
     ]
    }
   ],
   "source": [
    "print(x+\" \"+y)"
   ]
  },
  {
   "cell_type": "code",
   "execution_count": 32,
   "id": "cbe9371f",
   "metadata": {},
   "outputs": [
    {
     "name": "stdout",
     "output_type": "stream",
     "text": [
      "4coding\n"
     ]
    }
   ],
   "source": [
    "x=4\n",
    "y=\"coding\"\n",
    "# print(x+y) :gives error-unsupported operand type(s) for +: 'int' and 'str' : cannot add string and int\n",
    "\n",
    "result=str(x)+y # we converted int to string and then add it\n",
    "print(result)"
   ]
  },
  {
   "cell_type": "markdown",
   "id": "6aef2544",
   "metadata": {},
   "source": [
    "# FORMATING"
   ]
  },
  {
   "cell_type": "code",
   "execution_count": 1,
   "id": "22fbfebb",
   "metadata": {},
   "outputs": [
    {
     "name": "stdout",
     "output_type": "stream",
     "text": [
      "My name is Jyoti Kapoor. I am 22 years old\n"
     ]
    }
   ],
   "source": [
    "name=\"Jyoti Kapoor\"\n",
    "age=22\n",
    "result=(\"My name is {}. I am {} years old\")\n",
    "print(result.format(name,age))"
   ]
  },
  {
   "cell_type": "code",
   "execution_count": 2,
   "id": "cc9734a1",
   "metadata": {},
   "outputs": [
    {
     "name": "stdout",
     "output_type": "stream",
     "text": [
      "My name is Jyoti Kapoor. I am 22 years old\n"
     ]
    }
   ],
   "source": [
    "name=\"Jyoti Kapoor\"\n",
    "age=22\n",
    "result= f\"My name is {name}. I am {age} years old\"\n",
    "print(result)\n",
    "# print(result.format(name,age))"
   ]
  },
  {
   "cell_type": "code",
   "execution_count": 38,
   "id": "7f4733ec",
   "metadata": {},
   "outputs": [
    {
     "name": "stdout",
     "output_type": "stream",
     "text": [
      "My name is Priya. I am 20 years old.\n"
     ]
    }
   ],
   "source": [
    "name=\"Priya\"\n",
    "age=20\n",
    "result=(\"My name is {}. I am {} years old.\")\n",
    "print(result.format(name,age))"
   ]
  },
  {
   "cell_type": "code",
   "execution_count": 39,
   "id": "15a28530",
   "metadata": {},
   "outputs": [
    {
     "name": "stdout",
     "output_type": "stream",
     "text": [
      "There are 8 Wonders in the world\n"
     ]
    }
   ],
   "source": [
    "name=\"Wonders\"\n",
    "int=8\n",
    "result= f\"There are {int} {name} in the world\"\n",
    "print(result)"
   ]
  },
  {
   "cell_type": "markdown",
   "id": "378e55d5",
   "metadata": {},
   "source": [
    "# SLICING"
   ]
  },
  {
   "cell_type": "code",
   "execution_count": 42,
   "id": "d0148b4c",
   "metadata": {},
   "outputs": [
    {
     "name": "stdout",
     "output_type": "stream",
     "text": [
      "t\n"
     ]
    }
   ],
   "source": [
    "x=\"Earth\"\n",
    "print(x[3])"
   ]
  },
  {
   "cell_type": "code",
   "execution_count": 43,
   "id": "4925500c",
   "metadata": {},
   "outputs": [
    {
     "name": "stdout",
     "output_type": "stream",
     "text": [
      "arth\n"
     ]
    }
   ],
   "source": [
    "print(x[1:])"
   ]
  },
  {
   "cell_type": "code",
   "execution_count": 44,
   "id": "489e90b9",
   "metadata": {},
   "outputs": [
    {
     "name": "stdout",
     "output_type": "stream",
     "text": [
      "Eart\n"
     ]
    }
   ],
   "source": [
    "print(x[:4])"
   ]
  },
  {
   "cell_type": "code",
   "execution_count": 56,
   "id": "b38eaa85",
   "metadata": {},
   "outputs": [
    {
     "name": "stdout",
     "output_type": "stream",
     "text": [
      "tif\n"
     ]
    }
   ],
   "source": [
    "x=\"Beautiful\"\n",
    "print(x[-5:-2])"
   ]
  },
  {
   "cell_type": "code",
   "execution_count": 58,
   "id": "16190c67",
   "metadata": {},
   "outputs": [
    {
     "name": "stdout",
     "output_type": "stream",
     "text": [
      "lufituaeB\n"
     ]
    }
   ],
   "source": [
    "print(x[::-1])"
   ]
  },
  {
   "cell_type": "code",
   "execution_count": 8,
   "id": "947765b9",
   "metadata": {},
   "outputs": [
    {
     "name": "stdout",
     "output_type": "stream",
     "text": [
      "usol \n"
     ]
    }
   ],
   "source": [
    "#using skip in slicing where [start:end:skip]\n",
    "data  = \"you should work on your skills\"\n",
    "print(data[2:12:2])"
   ]
  },
  {
   "cell_type": "code",
   "execution_count": 9,
   "id": "301a4a66",
   "metadata": {},
   "outputs": [
    {
     "name": "stdout",
     "output_type": "stream",
     "text": [
      " orsi\n"
     ]
    }
   ],
   "source": [
    "#you can even do the negative slicing here\n",
    "data  = \"you should work on your skills\"\n",
    "print(data[-12:-2:2])"
   ]
  },
  {
   "cell_type": "code",
   "execution_count": 11,
   "id": "b0419306",
   "metadata": {},
   "outputs": [
    {
     "name": "stdout",
     "output_type": "stream",
     "text": [
      " usl\n"
     ]
    }
   ],
   "source": [
    "data  = \"you should work on your skills\"\n",
    "print(data[-12:-2:3])"
   ]
  },
  {
   "cell_type": "code",
   "execution_count": 12,
   "id": "7b4ce98e",
   "metadata": {},
   "outputs": [
    {
     "name": "stdout",
     "output_type": "stream",
     "text": [
      "you \"should\" work on your skills\n"
     ]
    }
   ],
   "source": [
    "data  = \"you \\\"should\\\" work on your skills\"\n",
    "print(data)\n"
   ]
  },
  {
   "cell_type": "code",
   "execution_count": 14,
   "id": "a1d5dfde",
   "metadata": {},
   "outputs": [
    {
     "name": "stdout",
     "output_type": "stream",
     "text": [
      "you 'should' work on your skills\n"
     ]
    }
   ],
   "source": [
    "data  = \"you 'should' work on your skills\"\n",
    "print(data)"
   ]
  },
  {
   "cell_type": "code",
   "execution_count": null,
   "id": "08a92f72",
   "metadata": {},
   "outputs": [],
   "source": []
  }
 ],
 "metadata": {
  "kernelspec": {
   "display_name": "Python 3 (ipykernel)",
   "language": "python",
   "name": "python3"
  },
  "language_info": {
   "codemirror_mode": {
    "name": "ipython",
    "version": 3
   },
   "file_extension": ".py",
   "mimetype": "text/x-python",
   "name": "python",
   "nbconvert_exporter": "python",
   "pygments_lexer": "ipython3",
   "version": "3.11.5"
  }
 },
 "nbformat": 4,
 "nbformat_minor": 5
}
